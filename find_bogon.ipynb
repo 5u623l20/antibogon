{
 "cells": [
  {
   "cell_type": "markdown",
   "metadata": {},
   "source": [
    "# Find Bogon"
   ]
  },
  {
   "cell_type": "code",
   "execution_count": 104,
   "metadata": {},
   "outputs": [],
   "source": [
    "import datetime\n",
    "import gzip\n",
    "import bz2\n",
    "import radix\n",
    "import re\n",
    "import math\n",
    "import pandas as pd"
   ]
  },
  {
   "cell_type": "code",
   "execution_count": 105,
   "metadata": {},
   "outputs": [],
   "source": [
    "fn_dmp_apn = \"data/2019-02-22.dmp.gz\"\n",
    "\n",
    "fn_del_afr = \"data/delegated-afrinic-20190222\"\n",
    "fn_del_apn = \"data/delegated-apnic-20190222.gz\"\n",
    "fn_del_ari = \"data/delegated-arin-extended-20190222\"\n",
    "fn_del_lac = \"data/delegated-lacnic-20190222\"\n",
    "fn_del_rip = \"data/delegated-ripencc-20190222.bz2\""
   ]
  },
  {
   "cell_type": "code",
   "execution_count": 106,
   "metadata": {},
   "outputs": [],
   "source": [
    "f_dmp = gzip.open(fn_dmp_apn,\"rt\")\n",
    "dmp = f_dmp.read()\n",
    "dmp = dmp.replace(\"\\n\",\"\")\n",
    "dmp_lines = dmp.split(\"*\")\n",
    "f_dmp.close()"
   ]
  },
  {
   "cell_type": "code",
   "execution_count": 107,
   "metadata": {},
   "outputs": [],
   "source": [
    "f_del_afr = open(fn_del_afr,\"r\")\n",
    "f_del_apn = gzip.open(fn_del_apn,\"rt\")\n",
    "f_del_ari = open(fn_del_ari,\"r\")\n",
    "f_del_lac = open(fn_del_lac,\"r\")\n",
    "f_del_rip = bz2.open(fn_del_rip,\"rt\")\n",
    "\n",
    "lines_del_afr = f_del_afr.readlines()\n",
    "lines_del_apn = f_del_apn.readlines()\n",
    "lines_del_ari = f_del_ari.readlines()\n",
    "lines_del_lac = f_del_lac.readlines()\n",
    "lines_del_rip = f_del_rip.readlines()\n",
    "\n",
    "f_del_afr.close()\n",
    "f_del_apn.close()\n",
    "f_del_ari.close()\n",
    "f_del_lac.close()\n",
    "f_del_rip.close()"
   ]
  },
  {
   "cell_type": "code",
   "execution_count": 148,
   "metadata": {},
   "outputs": [],
   "source": [
    "dmp_tree = radix.Radix()\n",
    "\n",
    "for line in dmp_lines:\n",
    "    if \"/\" not in line:\n",
    "        continue\n",
    "    row = re.sub('{.*}|>',\"\",line[:-1]).split()\n",
    "    prefix = row[0]\n",
    "    asn = row[-2]\n",
    "    rnode = dmp_tree.search_best(prefix)\n",
    "    if rnode is None:\n",
    "        rnode = dmp_tree.add(prefix)\n",
    "        rnode.data[\"asn\"] = asn\n",
    "        rnode.data[\"registry\"] = None\n",
    "        rnode.data[\"economy\" ] = None\n",
    "        rnode.data[\"nhost\"   ] = None\n",
    "        rnode.data[\"date\"    ] = None\n",
    "        rnode.data[\"status\"  ] = None"
   ]
  },
  {
   "cell_type": "code",
   "execution_count": 149,
   "metadata": {},
   "outputs": [],
   "source": [
    "lines_del = [lines_del_afr, lines_del_apn, lines_del_ari, lines_del_lac, lines_del_rip]\n",
    "\n",
    "for lines in lines_del:\n",
    "    i = 0\n",
    "    for line in lines:\n",
    "        if \"ipv4\" not in line:\n",
    "            continue\n",
    "        if \"summary\" in line:\n",
    "            continue\n",
    "        i += 1\n",
    "        row = line[:-1].split(\"|\")\n",
    "        # print(row)\n",
    "        # break\n",
    "        registry   = row[0]\n",
    "        economy    = row[1]\n",
    "        network    = row[3]\n",
    "        nhost      = int(row[4])\n",
    "        prefixlen  = 32 - math.log(nhost,2)\n",
    "        prefix     = \"%s/%d\" % (network, prefixlen)\n",
    "        date       = \"%s-%s-%s\" % (row[5][0:4], row[5][4:6], row[5][6:8])\n",
    "        status     = row[6]\n",
    "        rnode = dmp_tree.search_best(prefix)\n",
    "        if rnode is not None:\n",
    "            rnode.data[\"registry\" ] = registry\n",
    "            rnode.data[\"economy\"  ] = economy\n",
    "            rnode.data[\"nhost\"    ] = nhost\n",
    "            rnode.data[\"date\"     ] = date\n",
    "            rnode.data[\"status\"   ] = status"
   ]
  },
  {
   "cell_type": "code",
   "execution_count": 157,
   "metadata": {},
   "outputs": [],
   "source": [
    "lst_dict = []\n",
    "for rnode in dmp_tree.nodes():\n",
    "    row = {\n",
    "        \"prefix\"     : rnode.prefix,\n",
    "        \"prefixlen\"  : rnode.prefixlen,\n",
    "        \"nhost\"     : rnode.data[\"nhost\"    ],\n",
    "        \"asn\"        : rnode.data[\"asn\"],\n",
    "        \"registry\"  : rnode.data[\"registry\" ],\n",
    "        \"economy\"   : rnode.data[\"economy\"  ],\n",
    "        \"date\"      : rnode.data[\"date\"     ],\n",
    "        \"status\"    : rnode.data[\"status\"   ],\n",
    "    }\n",
    "    lst_dict.append(row)"
   ]
  },
  {
   "cell_type": "code",
   "execution_count": 158,
   "metadata": {},
   "outputs": [],
   "source": [
    "df = pd.DataFrame(lst_dict)\n",
    "df = df[[\"prefix\",\"prefixlen\",\"nhost\",\"asn\",\"registry\",\"economy\",\"date\",\"status\"]]"
   ]
  },
  {
   "cell_type": "code",
   "execution_count": 133,
   "metadata": {},
   "outputs": [],
   "source": [
    "df.to_csv(\"bogon.tsv\", sep='\\t', encoding='utf-8')"
   ]
  },
  {
   "cell_type": "code",
   "execution_count": 162,
   "metadata": {},
   "outputs": [
    {
     "data": {
      "text/plain": [
       "311555"
      ]
     },
     "execution_count": 162,
     "metadata": {},
     "output_type": "execute_result"
    }
   ],
   "source": [
    "len(df.index)"
   ]
  },
  {
   "cell_type": "code",
   "execution_count": 163,
   "metadata": {},
   "outputs": [
    {
     "data": {
      "text/html": [
       "<div>\n",
       "<style scoped>\n",
       "    .dataframe tbody tr th:only-of-type {\n",
       "        vertical-align: middle;\n",
       "    }\n",
       "\n",
       "    .dataframe tbody tr th {\n",
       "        vertical-align: top;\n",
       "    }\n",
       "\n",
       "    .dataframe thead th {\n",
       "        text-align: right;\n",
       "    }\n",
       "</style>\n",
       "<table border=\"1\" class=\"dataframe\">\n",
       "  <thead>\n",
       "    <tr style=\"text-align: right;\">\n",
       "      <th></th>\n",
       "      <th>prefix</th>\n",
       "      <th>prefixlen</th>\n",
       "      <th>nhost</th>\n",
       "      <th>asn</th>\n",
       "      <th>registry</th>\n",
       "      <th>economy</th>\n",
       "      <th>date</th>\n",
       "      <th>status</th>\n",
       "    </tr>\n",
       "  </thead>\n",
       "  <tbody>\n",
       "    <tr>\n",
       "      <th>0</th>\n",
       "      <td>1.0.0.0/24</td>\n",
       "      <td>24</td>\n",
       "      <td>256.0</td>\n",
       "      <td>2516</td>\n",
       "      <td>apnic</td>\n",
       "      <td>AU</td>\n",
       "      <td>2011-08-11</td>\n",
       "      <td>assigned</td>\n",
       "    </tr>\n",
       "    <tr>\n",
       "      <th>1</th>\n",
       "      <td>1.0.4.0/22</td>\n",
       "      <td>22</td>\n",
       "      <td>1024.0</td>\n",
       "      <td>38803</td>\n",
       "      <td>apnic</td>\n",
       "      <td>AU</td>\n",
       "      <td>2011-04-12</td>\n",
       "      <td>allocated</td>\n",
       "    </tr>\n",
       "    <tr>\n",
       "      <th>2</th>\n",
       "      <td>1.0.16.0/24</td>\n",
       "      <td>24</td>\n",
       "      <td>NaN</td>\n",
       "      <td>2519</td>\n",
       "      <td>None</td>\n",
       "      <td>None</td>\n",
       "      <td>None</td>\n",
       "      <td>None</td>\n",
       "    </tr>\n",
       "    <tr>\n",
       "      <th>3</th>\n",
       "      <td>1.0.64.0/18</td>\n",
       "      <td>18</td>\n",
       "      <td>16384.0</td>\n",
       "      <td>7670</td>\n",
       "      <td>apnic</td>\n",
       "      <td>JP</td>\n",
       "      <td>2011-04-12</td>\n",
       "      <td>allocated</td>\n",
       "    </tr>\n",
       "    <tr>\n",
       "      <th>4</th>\n",
       "      <td>1.0.128.0/17</td>\n",
       "      <td>17</td>\n",
       "      <td>32768.0</td>\n",
       "      <td>38040</td>\n",
       "      <td>apnic</td>\n",
       "      <td>TH</td>\n",
       "      <td>2011-04-08</td>\n",
       "      <td>allocated</td>\n",
       "    </tr>\n",
       "  </tbody>\n",
       "</table>\n",
       "</div>"
      ],
      "text/plain": [
       "         prefix  prefixlen    nhost    asn registry economy        date  \\\n",
       "0    1.0.0.0/24         24    256.0   2516    apnic      AU  2011-08-11   \n",
       "1    1.0.4.0/22         22   1024.0  38803    apnic      AU  2011-04-12   \n",
       "2   1.0.16.0/24         24      NaN   2519     None    None        None   \n",
       "3   1.0.64.0/18         18  16384.0   7670    apnic      JP  2011-04-12   \n",
       "4  1.0.128.0/17         17  32768.0  38040    apnic      TH  2011-04-08   \n",
       "\n",
       "      status  \n",
       "0   assigned  \n",
       "1  allocated  \n",
       "2       None  \n",
       "3  allocated  \n",
       "4  allocated  "
      ]
     },
     "execution_count": 163,
     "metadata": {},
     "output_type": "execute_result"
    }
   ],
   "source": [
    "df.head(5)"
   ]
  },
  {
   "cell_type": "code",
   "execution_count": 177,
   "metadata": {},
   "outputs": [],
   "source": [
    "df_status = df.groupby([\"status\"]).size().reset_index(name='counts')\n",
    "row_null = {\n",
    "    \"status\":\"none\", \n",
    "    \"counts\":len(df[df[\"status\"].isnull()])\n",
    "}\n",
    "df_status = df_status.append(row_null,ignore_index=True)"
   ]
  },
  {
   "cell_type": "code",
   "execution_count": 178,
   "metadata": {},
   "outputs": [
    {
     "data": {
      "text/html": [
       "<div>\n",
       "<style scoped>\n",
       "    .dataframe tbody tr th:only-of-type {\n",
       "        vertical-align: middle;\n",
       "    }\n",
       "\n",
       "    .dataframe tbody tr th {\n",
       "        vertical-align: top;\n",
       "    }\n",
       "\n",
       "    .dataframe thead th {\n",
       "        text-align: right;\n",
       "    }\n",
       "</style>\n",
       "<table border=\"1\" class=\"dataframe\">\n",
       "  <thead>\n",
       "    <tr style=\"text-align: right;\">\n",
       "      <th></th>\n",
       "      <th>status</th>\n",
       "      <th>counts</th>\n",
       "    </tr>\n",
       "  </thead>\n",
       "  <tbody>\n",
       "    <tr>\n",
       "      <th>0</th>\n",
       "      <td>allocated</td>\n",
       "      <td>67508</td>\n",
       "    </tr>\n",
       "    <tr>\n",
       "      <th>1</th>\n",
       "      <td>assigned</td>\n",
       "      <td>18893</td>\n",
       "    </tr>\n",
       "    <tr>\n",
       "      <th>2</th>\n",
       "      <td>reserved</td>\n",
       "      <td>31</td>\n",
       "    </tr>\n",
       "    <tr>\n",
       "      <th>3</th>\n",
       "      <td>none</td>\n",
       "      <td>225123</td>\n",
       "    </tr>\n",
       "  </tbody>\n",
       "</table>\n",
       "</div>"
      ],
      "text/plain": [
       "      status  counts\n",
       "0  allocated   67508\n",
       "1   assigned   18893\n",
       "2   reserved      31\n",
       "3       none  225123"
      ]
     },
     "execution_count": 178,
     "metadata": {},
     "output_type": "execute_result"
    }
   ],
   "source": [
    "df_status"
   ]
  },
  {
   "cell_type": "code",
   "execution_count": 179,
   "metadata": {},
   "outputs": [],
   "source": [
    "df_registry = df.groupby([\"registry\"]).size().reset_index(name='counts')"
   ]
  },
  {
   "cell_type": "code",
   "execution_count": 180,
   "metadata": {},
   "outputs": [
    {
     "data": {
      "text/html": [
       "<div>\n",
       "<style scoped>\n",
       "    .dataframe tbody tr th:only-of-type {\n",
       "        vertical-align: middle;\n",
       "    }\n",
       "\n",
       "    .dataframe tbody tr th {\n",
       "        vertical-align: top;\n",
       "    }\n",
       "\n",
       "    .dataframe thead th {\n",
       "        text-align: right;\n",
       "    }\n",
       "</style>\n",
       "<table border=\"1\" class=\"dataframe\">\n",
       "  <thead>\n",
       "    <tr style=\"text-align: right;\">\n",
       "      <th></th>\n",
       "      <th>registry</th>\n",
       "      <th>counts</th>\n",
       "    </tr>\n",
       "  </thead>\n",
       "  <tbody>\n",
       "    <tr>\n",
       "      <th>0</th>\n",
       "      <td>afrinic</td>\n",
       "      <td>1649</td>\n",
       "    </tr>\n",
       "    <tr>\n",
       "      <th>1</th>\n",
       "      <td>apnic</td>\n",
       "      <td>15512</td>\n",
       "    </tr>\n",
       "    <tr>\n",
       "      <th>2</th>\n",
       "      <td>arin</td>\n",
       "      <td>17815</td>\n",
       "    </tr>\n",
       "    <tr>\n",
       "      <th>3</th>\n",
       "      <td>lacnic</td>\n",
       "      <td>9990</td>\n",
       "    </tr>\n",
       "    <tr>\n",
       "      <th>4</th>\n",
       "      <td>ripencc</td>\n",
       "      <td>41466</td>\n",
       "    </tr>\n",
       "  </tbody>\n",
       "</table>\n",
       "</div>"
      ],
      "text/plain": [
       "  registry  counts\n",
       "0  afrinic    1649\n",
       "1    apnic   15512\n",
       "2     arin   17815\n",
       "3   lacnic    9990\n",
       "4  ripencc   41466"
      ]
     },
     "execution_count": 180,
     "metadata": {},
     "output_type": "execute_result"
    }
   ],
   "source": [
    "df_registry"
   ]
  },
  {
   "cell_type": "code",
   "execution_count": 183,
   "metadata": {},
   "outputs": [],
   "source": [
    "df_bogon = df[df[\"status\"]!=\"allocated\"]"
   ]
  },
  {
   "cell_type": "code",
   "execution_count": 184,
   "metadata": {},
   "outputs": [
    {
     "data": {
      "text/plain": [
       "244047"
      ]
     },
     "execution_count": 184,
     "metadata": {},
     "output_type": "execute_result"
    }
   ],
   "source": [
    "len(df_bogon.index)"
   ]
  },
  {
   "cell_type": "code",
   "execution_count": 185,
   "metadata": {},
   "outputs": [
    {
     "data": {
      "text/html": [
       "<div>\n",
       "<style scoped>\n",
       "    .dataframe tbody tr th:only-of-type {\n",
       "        vertical-align: middle;\n",
       "    }\n",
       "\n",
       "    .dataframe tbody tr th {\n",
       "        vertical-align: top;\n",
       "    }\n",
       "\n",
       "    .dataframe thead th {\n",
       "        text-align: right;\n",
       "    }\n",
       "</style>\n",
       "<table border=\"1\" class=\"dataframe\">\n",
       "  <thead>\n",
       "    <tr style=\"text-align: right;\">\n",
       "      <th></th>\n",
       "      <th>prefix</th>\n",
       "      <th>prefixlen</th>\n",
       "      <th>nhost</th>\n",
       "      <th>asn</th>\n",
       "      <th>registry</th>\n",
       "      <th>economy</th>\n",
       "      <th>date</th>\n",
       "      <th>status</th>\n",
       "    </tr>\n",
       "  </thead>\n",
       "  <tbody>\n",
       "    <tr>\n",
       "      <th>0</th>\n",
       "      <td>1.0.0.0/24</td>\n",
       "      <td>24</td>\n",
       "      <td>256.0</td>\n",
       "      <td>2516</td>\n",
       "      <td>apnic</td>\n",
       "      <td>AU</td>\n",
       "      <td>2011-08-11</td>\n",
       "      <td>assigned</td>\n",
       "    </tr>\n",
       "    <tr>\n",
       "      <th>2</th>\n",
       "      <td>1.0.16.0/24</td>\n",
       "      <td>24</td>\n",
       "      <td>NaN</td>\n",
       "      <td>2519</td>\n",
       "      <td>None</td>\n",
       "      <td>None</td>\n",
       "      <td>None</td>\n",
       "      <td>None</td>\n",
       "    </tr>\n",
       "    <tr>\n",
       "      <th>5</th>\n",
       "      <td>1.1.1.0/24</td>\n",
       "      <td>24</td>\n",
       "      <td>256.0</td>\n",
       "      <td>2516</td>\n",
       "      <td>apnic</td>\n",
       "      <td>AU</td>\n",
       "      <td>2011-08-11</td>\n",
       "      <td>assigned</td>\n",
       "    </tr>\n",
       "    <tr>\n",
       "      <th>7</th>\n",
       "      <td>1.1.20.0/24</td>\n",
       "      <td>24</td>\n",
       "      <td>NaN</td>\n",
       "      <td>4637</td>\n",
       "      <td>None</td>\n",
       "      <td>None</td>\n",
       "      <td>None</td>\n",
       "      <td>None</td>\n",
       "    </tr>\n",
       "    <tr>\n",
       "      <th>8</th>\n",
       "      <td>1.1.64.0/19</td>\n",
       "      <td>19</td>\n",
       "      <td>NaN</td>\n",
       "      <td>2519</td>\n",
       "      <td>None</td>\n",
       "      <td>None</td>\n",
       "      <td>None</td>\n",
       "      <td>None</td>\n",
       "    </tr>\n",
       "    <tr>\n",
       "      <th>9</th>\n",
       "      <td>1.1.103.0/24</td>\n",
       "      <td>24</td>\n",
       "      <td>NaN</td>\n",
       "      <td>2519</td>\n",
       "      <td>None</td>\n",
       "      <td>None</td>\n",
       "      <td>None</td>\n",
       "      <td>None</td>\n",
       "    </tr>\n",
       "    <tr>\n",
       "      <th>10</th>\n",
       "      <td>1.1.104.0/24</td>\n",
       "      <td>24</td>\n",
       "      <td>NaN</td>\n",
       "      <td>2519</td>\n",
       "      <td>None</td>\n",
       "      <td>None</td>\n",
       "      <td>None</td>\n",
       "      <td>None</td>\n",
       "    </tr>\n",
       "    <tr>\n",
       "      <th>11</th>\n",
       "      <td>1.1.105.0/24</td>\n",
       "      <td>24</td>\n",
       "      <td>NaN</td>\n",
       "      <td>2519</td>\n",
       "      <td>None</td>\n",
       "      <td>None</td>\n",
       "      <td>None</td>\n",
       "      <td>None</td>\n",
       "    </tr>\n",
       "    <tr>\n",
       "      <th>12</th>\n",
       "      <td>1.1.106.0/24</td>\n",
       "      <td>24</td>\n",
       "      <td>NaN</td>\n",
       "      <td>2519</td>\n",
       "      <td>None</td>\n",
       "      <td>None</td>\n",
       "      <td>None</td>\n",
       "      <td>None</td>\n",
       "    </tr>\n",
       "    <tr>\n",
       "      <th>13</th>\n",
       "      <td>1.1.107.0/24</td>\n",
       "      <td>24</td>\n",
       "      <td>NaN</td>\n",
       "      <td>2519</td>\n",
       "      <td>None</td>\n",
       "      <td>None</td>\n",
       "      <td>None</td>\n",
       "      <td>None</td>\n",
       "    </tr>\n",
       "  </tbody>\n",
       "</table>\n",
       "</div>"
      ],
      "text/plain": [
       "          prefix  prefixlen  nhost   asn registry economy        date  \\\n",
       "0     1.0.0.0/24         24  256.0  2516    apnic      AU  2011-08-11   \n",
       "2    1.0.16.0/24         24    NaN  2519     None    None        None   \n",
       "5     1.1.1.0/24         24  256.0  2516    apnic      AU  2011-08-11   \n",
       "7    1.1.20.0/24         24    NaN  4637     None    None        None   \n",
       "8    1.1.64.0/19         19    NaN  2519     None    None        None   \n",
       "9   1.1.103.0/24         24    NaN  2519     None    None        None   \n",
       "10  1.1.104.0/24         24    NaN  2519     None    None        None   \n",
       "11  1.1.105.0/24         24    NaN  2519     None    None        None   \n",
       "12  1.1.106.0/24         24    NaN  2519     None    None        None   \n",
       "13  1.1.107.0/24         24    NaN  2519     None    None        None   \n",
       "\n",
       "      status  \n",
       "0   assigned  \n",
       "2       None  \n",
       "5   assigned  \n",
       "7       None  \n",
       "8       None  \n",
       "9       None  \n",
       "10      None  \n",
       "11      None  \n",
       "12      None  \n",
       "13      None  "
      ]
     },
     "execution_count": 185,
     "metadata": {},
     "output_type": "execute_result"
    }
   ],
   "source": [
    "df_bogon.head(10)"
   ]
  },
  {
   "cell_type": "code",
   "execution_count": null,
   "metadata": {},
   "outputs": [],
   "source": []
  }
 ],
 "metadata": {
  "kernelspec": {
   "display_name": "Python 3",
   "language": "python",
   "name": "python3"
  },
  "language_info": {
   "codemirror_mode": {
    "name": "ipython",
    "version": 3
   },
   "file_extension": ".py",
   "mimetype": "text/x-python",
   "name": "python",
   "nbconvert_exporter": "python",
   "pygments_lexer": "ipython3",
   "version": "3.7.0"
  }
 },
 "nbformat": 4,
 "nbformat_minor": 2
}
